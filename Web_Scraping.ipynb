{
  "nbformat": 4,
  "nbformat_minor": 0,
  "metadata": {
    "colab": {
      "provenance": [],
      "authorship_tag": "ABX9TyP4JBQJ288lj1NnPGMZcBYr",
      "include_colab_link": true
    },
    "kernelspec": {
      "name": "python3",
      "display_name": "Python 3"
    },
    "language_info": {
      "name": "python"
    }
  },
  "cells": [
    {
      "cell_type": "markdown",
      "metadata": {
        "id": "view-in-github",
        "colab_type": "text"
      },
      "source": [
        "<a href=\"https://colab.research.google.com/github/nabinadhikari96/web-scraping/blob/main/Web_Scraping.ipynb\" target=\"_parent\"><img src=\"https://colab.research.google.com/assets/colab-badge.svg\" alt=\"Open In Colab\"/></a>"
      ]
    },
    {
      "cell_type": "code",
      "execution_count": null,
      "metadata": {
        "id": "Ol-LZriEWBM5"
      },
      "outputs": [],
      "source": [
        "#pip install requests"
      ]
    },
    {
      "cell_type": "code",
      "source": [
        "#pip install bs4"
      ],
      "metadata": {
        "id": "NlBNcsSJWQgE"
      },
      "execution_count": null,
      "outputs": []
    },
    {
      "cell_type": "code",
      "source": [
        "#pip install html5lib"
      ],
      "metadata": {
        "id": "hqgiN5LYWaCN"
      },
      "execution_count": null,
      "outputs": []
    },
    {
      "cell_type": "code",
      "source": [
        "#step 0 : import required libraries\n",
        "import requests\n",
        "from bs4 import BeautifulSoup\n",
        "import re"
      ],
      "metadata": {
        "id": "ypge4R-fWd1Y"
      },
      "execution_count": null,
      "outputs": []
    },
    {
      "cell_type": "code",
      "source": [
        "for i in range(1,508):\n",
        "  url = \"https://businessdirectorymiddleeast.com/findadealer.php?city=Dubai&reg=12&nr_display=5&pageno={i}\"\n",
        "  #step 2 : Get the HtML\n",
        "content = requests.get(url)\n",
        "htmlContent = content.content\n",
        "#print(htmlContent)\n",
        "#step 3 : parse the HTML\n",
        "soup = BeautifulSoup(htmlContent,'html.parser')\n",
        "#print(soup.prettify)\n",
        "# Define a regular expression pattern for matching email addresses\n",
        "email_pattern = r'\\b[A-Za-z0-9._%+-]+@[A-Za-z0-9.-]+\\.[A-Z|a-z]{2,7}\\b'\n",
        "\n",
        "# Find all elements in the HTML that might contain email addresses\n",
        "email_elements = soup.find_all(text=re.compile(email_pattern))\n",
        "# Convert the email_elements list into a single string\n",
        "email_text = ' '.join(email_elements)\n",
        "\n",
        "# Print or use the email_text as needed\n",
        "print(email_text)\n",
        "\n",
        "\n",
        "# Extract and print the email addresses found\n",
        "for i in email_text:\n",
        "    emails = re.findall(email_pattern, i)\n",
        "    for email in emails:\n",
        "        print(email)\n"
      ],
      "metadata": {
        "colab": {
          "base_uri": "https://localhost:8080/"
        },
        "id": "lajUMUVNXDte",
        "outputId": "db107f72-1062-451d-f92f-d782c3c8236c"
      },
      "execution_count": null,
      "outputs": [
        {
          "output_type": "stream",
          "name": "stdout",
          "text": [
            "\n"
          ]
        },
        {
          "output_type": "stream",
          "name": "stderr",
          "text": [
            "<ipython-input-93-3b52539c51a3>:14: DeprecationWarning: The 'text' argument to find()-type methods is deprecated. Use 'string' instead.\n",
            "  email_elements = soup.find_all(text=re.compile(email_pattern))\n"
          ]
        }
      ]
    },
    {
      "cell_type": "code",
      "source": [
        "print(email)"
      ],
      "metadata": {
        "colab": {
          "base_uri": "https://localhost:8080/"
        },
        "id": "eqpAt9l0Z1Aa",
        "outputId": "598a58e6-df7b-4c01-8a89-292f57c67e25"
      },
      "execution_count": null,
      "outputs": [
        {
          "output_type": "stream",
          "name": "stdout",
          "text": [
            "saban.financialbg@gmail.com\n"
          ]
        }
      ]
    }
  ]
}